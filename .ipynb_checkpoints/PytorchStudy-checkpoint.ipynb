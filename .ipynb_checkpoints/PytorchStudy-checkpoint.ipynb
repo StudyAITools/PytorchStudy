{
 "cells": [
  {
   "cell_type": "markdown",
   "id": "00e7c957-cccb-4c28-bca3-2499bfe5efb1",
   "metadata": {},
   "source": [
    "# tensor "
   ]
  },
  {
   "cell_type": "code",
   "execution_count": 1,
   "id": "90391e8d-d5d7-4aff-9b54-2b7cb6f05051",
   "metadata": {},
   "outputs": [
    {
     "name": "stdout",
     "output_type": "stream",
     "text": [
      "tensor([1.])\n"
     ]
    }
   ],
   "source": [
    "import torch\n",
    "\n",
    "scalar1= torch.tensor([1.])\n",
    "print(scalar1)"
   ]
  },
  {
   "cell_type": "code",
   "execution_count": 2,
   "id": "22e2dbea-d854-4d2c-aa8e-7923362b1ed8",
   "metadata": {},
   "outputs": [
    {
     "name": "stdout",
     "output_type": "stream",
     "text": [
      "tensor([3.])\n"
     ]
    }
   ],
   "source": [
    "scalar2= torch.tensor([3.])\n",
    "print(scalar2)"
   ]
  },
  {
   "cell_type": "code",
   "execution_count": 3,
   "id": "94dd042e-341f-4219-8c39-669f60af29d5",
   "metadata": {},
   "outputs": [
    {
     "name": "stdout",
     "output_type": "stream",
     "text": [
      "tensor([4.])\n"
     ]
    }
   ],
   "source": [
    "add_scalar = scalar1 + scalar2\n",
    "print(add_scalar)"
   ]
  },
  {
   "cell_type": "code",
   "execution_count": 4,
   "id": "2e5ddbfa-a362-42fd-969b-d6a5ab82e2a4",
   "metadata": {},
   "outputs": [
    {
     "name": "stdout",
     "output_type": "stream",
     "text": [
      "tensor([-2.])\n"
     ]
    }
   ],
   "source": [
    "sub_scalar = scalar1 - scalar2\n",
    "print(sub_scalar)"
   ]
  },
  {
   "cell_type": "code",
   "execution_count": 5,
   "id": "d5096c2d-0dc5-4e5f-bd36-daa9c934bf58",
   "metadata": {},
   "outputs": [
    {
     "name": "stdout",
     "output_type": "stream",
     "text": [
      "tensor([3.])\n"
     ]
    }
   ],
   "source": [
    "mul_scalar= scalar1 * scalar2\n",
    "print(mul_scalar)"
   ]
  },
  {
   "cell_type": "code",
   "execution_count": 6,
   "id": "86c3d7a0-3c61-4412-8ae7-c6b4a8361fe4",
   "metadata": {},
   "outputs": [
    {
     "name": "stdout",
     "output_type": "stream",
     "text": [
      "tensor([0.3333])\n"
     ]
    }
   ],
   "source": [
    "div_scalar = scalar1 / scalar2\n",
    "print(div_scalar)"
   ]
  },
  {
   "cell_type": "code",
   "execution_count": 8,
   "id": "91299c7c-8efd-4675-9ab9-2cc5345d1cc2",
   "metadata": {},
   "outputs": [
    {
     "data": {
      "text/plain": [
       "tensor([4.])"
      ]
     },
     "execution_count": 8,
     "metadata": {},
     "output_type": "execute_result"
    }
   ],
   "source": [
    "torch.add(scalar1,scalar2)"
   ]
  },
  {
   "cell_type": "code",
   "execution_count": 9,
   "id": "8782742a-a88d-4a2a-9fed-b641a11a5957",
   "metadata": {},
   "outputs": [
    {
     "data": {
      "text/plain": [
       "tensor([-2.])"
      ]
     },
     "execution_count": 9,
     "metadata": {},
     "output_type": "execute_result"
    }
   ],
   "source": [
    "torch.sub(scalar1,scalar2)"
   ]
  },
  {
   "cell_type": "code",
   "execution_count": 10,
   "id": "029af377-d8d0-4055-83e1-1925e8290ef0",
   "metadata": {},
   "outputs": [
    {
     "data": {
      "text/plain": [
       "tensor([3.])"
      ]
     },
     "execution_count": 10,
     "metadata": {},
     "output_type": "execute_result"
    }
   ],
   "source": [
    "torch.mul(scalar1,scalar2)"
   ]
  },
  {
   "cell_type": "code",
   "execution_count": 11,
   "id": "52f056c1-4c68-4cb0-8ea5-0f22a975288c",
   "metadata": {},
   "outputs": [
    {
     "data": {
      "text/plain": [
       "tensor([0.3333])"
      ]
     },
     "execution_count": 11,
     "metadata": {},
     "output_type": "execute_result"
    }
   ],
   "source": [
    "torch.div(scalar1,scalar2)"
   ]
  },
  {
   "cell_type": "code",
   "execution_count": null,
   "id": "4cab5ef0-b8ed-43d2-bd0a-a1f884eb9841",
   "metadata": {},
   "outputs": [],
   "source": []
  },
  {
   "cell_type": "code",
   "execution_count": null,
   "id": "dbd5af7f-fd6b-46d4-9cb9-397521a72dca",
   "metadata": {},
   "outputs": [],
   "source": []
  }
 ],
 "metadata": {
  "kernelspec": {
   "display_name": "Python 3 (ipykernel)",
   "language": "python",
   "name": "python3"
  },
  "language_info": {
   "codemirror_mode": {
    "name": "ipython",
    "version": 3
   },
   "file_extension": ".py",
   "mimetype": "text/x-python",
   "name": "python",
   "nbconvert_exporter": "python",
   "pygments_lexer": "ipython3",
   "version": "3.12.9"
  }
 },
 "nbformat": 4,
 "nbformat_minor": 5
}
