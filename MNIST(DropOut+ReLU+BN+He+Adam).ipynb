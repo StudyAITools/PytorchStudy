{
 "cells": [
  {
   "cell_type": "code",
   "execution_count": 1,
   "id": "f94ac6e0",
   "metadata": {},
   "outputs": [],
   "source": [
    "# 1. Module Import\n",
    "import numpy as np  # 1. 선형대수와 관련된 함수를 쉽게 이용할 수 있는 모듈 \n",
    "import matplotlib.pyplot as plt  # 2. 함수 실행 결과 산출물에 대한 수치를 사람이쉽게 이해할 수 있도록 시각화 할 수 있는 외부 모듈\n",
    "import torch  # 3. 우리가 이용하는 딥러닝 프레임워크 중 하나인 파이토치의 기본 모듈\n",
    "import torch.nn as nn  # 4. pyTorch.Module 중 딥러닝 , 즉 인공 신경망 모델을 설계할 떄 필요한 함수를 모아 놓은 모듈\n",
    "import torch.nn.functional as F  # 5. torch.nn 은  모듈 중에서도 자주 이용되는 함수를 F 로 지정\n",
    "from torchvision import transforms, datasets  # 6. 컴퓨터 비전 연구 분야에서 자주 이용하는 'torchvision' 모듈 내 ' transforms', 'datasets'함수를 임포트"
   ]
  },
  {
   "cell_type": "code",
   "execution_count": 2,
   "id": "62d7f5dd",
   "metadata": {},
   "outputs": [
    {
     "name": "stdout",
     "output_type": "stream",
     "text": [
      "Torch version: 2.8.0+cu126\n",
      "Torchvision version: 0.23.0+cu126\n",
      "CUDA version: 12.6\n",
      "CUDA available: True\n",
      "GPU name: NVIDIA GeForce RTX 3070\n"
     ]
    }
   ],
   "source": [
    "import torch\n",
    "import torchvision\n",
    "\n",
    "print(\"Torch version:\", torch.__version__)\n",
    "print(\"Torchvision version:\", torchvision.__version__)\n",
    "print(\"CUDA version:\", torch.version.cuda)\n",
    "print(\"CUDA available:\", torch.cuda.is_available())\n",
    "print(\"GPU name:\", torch.cuda.get_device_name(0) if torch.cuda.is_available() else \"No GPU detected\")\n",
    "\n"
   ]
  },
  {
   "cell_type": "code",
   "execution_count": 3,
   "id": "7b9dab41",
   "metadata": {},
   "outputs": [
    {
     "name": "stdout",
     "output_type": "stream",
     "text": [
      "Using PyTorch version: 2.8.0+cu126 Device: cuda\n"
     ]
    }
   ],
   "source": [
    "# 딥러닝 모델을 설계할 때 활용하는 장비 확인 \n",
    "if torch.cuda.is_available():\n",
    "    DEVICE =torch.device('cuda')\n",
    "else:\n",
    "    DEVICE = torch.device('cpu')\n",
    "    \n",
    "print('Using PyTorch version:',torch.__version__ , 'Device:', DEVICE)"
   ]
  },
  {
   "cell_type": "code",
   "execution_count": 4,
   "id": "eb3fdd40",
   "metadata": {},
   "outputs": [],
   "source": [
    "# 하이퍼 파라미터 지정\n",
    "BATCH_SIZE = 32  # MLP 학습시 Mini-Batch 1회(Iteration)당 사용되는 학습 데이터 수\n",
    "EPOCHS = 10  # 전체 데이터를 이용해 학습을 진행한 횟수, ex) 전체 데이터 1만개, Mini_Batch 1개당 BATCH_SIZE 1000개 = Mini_Batch 10Iteration = 1 EPOCH \n"
   ]
  },
  {
   "cell_type": "code",
   "execution_count": 5,
   "id": "285cfbe5",
   "metadata": {},
   "outputs": [],
   "source": [
    "# MNIST 데이터 다운로드 및 DataLoader 구성 (Train/Test 세트 분리)\n",
    "\n",
    "# 1. 학습용 데이터셋 다운로드\n",
    "train_dataset = datasets.MNIST(\n",
    "    root=\"./data/MNIST\",               # 데이터를 저장할 디렉토리 경로\n",
    "    train=True,                        # 학습용 데이터 지정\n",
    "    download=True,                     # 데이터가 없으면 인터넷에서 자동 다운로드\n",
    "    transform=transforms.ToTensor()    # 이미지를 Tensor로 변환 (0~1 범위로 정규화됨)\n",
    ")\n",
    "\n",
    "# 2. 테스트용 데이터셋 다운로드\n",
    "test_dataset = datasets.MNIST(\n",
    "    root=\"./data/MNIST\",               # 동일한 저장 경로\n",
    "    train=False,                       # 테스트용 데이터 지정\n",
    "    transform=transforms.ToTensor()    # 이미지 Tensor 변환 및 정규화\n",
    ")\n",
    "\n",
    "# 3. 학습용 데이터 로더 설정\n",
    "train_loader = torch.utils.data.DataLoader(\n",
    "    dataset=train_dataset,             # 학습 데이터셋 지정\n",
    "    batch_size=BATCH_SIZE,             # 한 번에 불러올 데이터 수\n",
    "    shuffle=True                       # 매 epoch마다 데이터를 섞어서 학습 (일반적으로 True로 설정)\n",
    ")\n",
    "\n",
    "# 4. 테스트용 데이터 로더 설정\n",
    "test_loader = torch.utils.data.DataLoader(\n",
    "    dataset=test_dataset,              # 테스트 데이터셋 지정\n",
    "    batch_size=BATCH_SIZE,             # 테스트 시에도 동일한 배치 크기 사용\n",
    "    shuffle=False                      # 테스트 데이터는 순서를 유지 (일반적으로 False)\n",
    ")\n"
   ]
  },
  {
   "cell_type": "code",
   "execution_count": 6,
   "id": "8a5106a7",
   "metadata": {},
   "outputs": [
    {
     "name": "stdout",
     "output_type": "stream",
     "text": [
      "x_train: torch.Size([32, 1, 28, 28]) type: torch.FloatTensor\n",
      "y_train: torch.Size([32]) type: torch.LongTensor\n"
     ]
    }
   ],
   "source": [
    "# 4. 데이터 확인하기(1)\n",
    "for (x_train, y_train) in train_loader:\n",
    "    print('x_train:', x_train.size(),'type:',x_train.type())   # 32개의 이미지 데이터 = Mini-Batch 1개 구성  = 한 개의 이미지는 가로 28개, 세로 28개의 픽셀, 채널 1개인 흑백 이미지 데이터\n",
    "    print('y_train:', y_train.size(),'type:',y_train.type())   # 32개의 이미지 데이터 각각의 대한 라벨링 데이터  \n",
    "    break\n"
   ]
  },
  {
   "cell_type": "code",
   "execution_count": 7,
   "id": "69718bb9",
   "metadata": {},
   "outputs": [
    {
     "data": {
      "image/png": "[encoded data removed]",
      "text/plain": [
       "<Figure size 1000x100 with 10 Axes>"
      ]
     },
     "metadata": {},
     "output_type": "display_data"
    }
   ],
   "source": [
    "# 5. 데이터 확인하기(2) \n",
    "pltsize = 1 \n",
    "plt.figure(figsize=(10 * pltsize,pltsize))\n",
    "for i in range(10):\n",
    "    plt.subplot(1,10,i+1)\n",
    "    plt.axis('off')\n",
    "    plt.imshow(x_train[i,:,:,:].numpy().reshape(28,28), cmap ='grey_r')\n",
    "    plt.title('Class: ' + str(y_train[i].item()))"
   ]
  },
  {
   "cell_type": "code",
   "execution_count": 8,
   "id": "1508ed6a",
   "metadata": {},
   "outputs": [],
   "source": [
    "# 6. 다층 퍼셉트론(MLP) 모델 정의\n",
    "class Net(nn.Module):  # nn.module → nn.Module (클래스명은 대문자로 시작해야 함)\n",
    "    def __init__(self):\n",
    "        super(Net, self).__init__() \n",
    "        \n",
    "        # 첫 번째 완전 연결층 (입력: 28x28 픽셀 → 출력: 512 노드)\n",
    "        self.fc1 = nn.Linear(28*28, 512)  \n",
    "\n",
    "        # 두 번째 완전 연결층 (입력: 512 노드 → 출력: 256 노드)\n",
    "        self.fc2 = nn.Linear(512, 256)\n",
    "\n",
    "        # 세 번째 완전 연결층 (입력: 256 노드 → 출력: 10 클래스)\n",
    "        self.fc3 = nn.Linear(256, 10)\n",
    "\n",
    "        # Layer의 50%의 노드에 대해서 가중값을 계산하지 않을것으로 정의\n",
    "        self.dropout_prob=0.5\n",
    "        \n",
    "        # 1차원 배치 정규화 (적용되는 차원마다 함수이름이 다름)\n",
    "        self.batch_norm1 = nn.BatchNorm1d(512)  # 첫 번째 완전 연결층 Output이 512크기의 벡터값이므로 512로 설정\n",
    "        self.batch_norm2 = nn.BatchNorm1d(256)  # 두 번째 완전 연결층 Output이 256크기의 벡터값이므로 256로 설정\n",
    "        \n",
    "    def forward(self, x):\n",
    "        # 이미지를 1차원 벡터로 변환 (배치 크기, 784)\n",
    "        x = x.view(-1, 28*28)\n",
    "\n",
    "        # 첫 번째 층 + BN + ReLU 활성화 함수\n",
    "        x = self.fc1(x)\n",
    "        x = self.batch_norm1(x)\n",
    "        x = F.relu(x) \n",
    "        \n",
    "        # MLP 내의 비선형 함수의 OutPut에 DropOut 적용\n",
    "        x = F.dropout(x,training=self.training,p=self.dropout_prob)\n",
    "        \n",
    "        # 두 번째 층 + BN + ReLU 활성화 함수\n",
    "        x = self.fc2(x)\n",
    "        x = self.batch_norm2(x)\n",
    "        x = F.relu(x)\n",
    "        \n",
    "        # MLP 내의 비선형 함수의 OutPut에 DropOut 적용\n",
    "        x = F.dropout(x,training=self.training,p=self.dropout_prob)\n",
    "\n",
    "        # 세 번째 층 + log_softmax 활성화 함수 (출력: 확률 로그값)\n",
    "        x = self.fc3(x)\n",
    "        x = F.log_softmax(x, dim=1)\n",
    "\n",
    "        return x\n"
   ]
  },
  {
   "cell_type": "code",
   "execution_count": 9,
   "id": "d60a05b2",
   "metadata": {},
   "outputs": [
    {
     "name": "stdout",
     "output_type": "stream",
     "text": [
      "Net(\n",
      "  (fc1): Linear(in_features=784, out_features=512, bias=True)\n",
      "  (fc2): Linear(in_features=512, out_features=256, bias=True)\n",
      "  (fc3): Linear(in_features=256, out_features=10, bias=True)\n",
      "  (batch_norm1): BatchNorm1d(512, eps=1e-05, momentum=0.1, affine=True, track_running_stats=True)\n",
      "  (batch_norm2): BatchNorm1d(256, eps=1e-05, momentum=0.1, affine=True, track_running_stats=True)\n",
      ")\n"
     ]
    },
    {
     "name": "stderr",
     "output_type": "stream",
     "text": [
      "/tmp/ipykernel_5977/2459736441.py:9: FutureWarning: `nn.init.kaiming_uniform` is now deprecated in favor of `nn.init.kaiming_uniform_`.\n",
      "  init.kaiming_uniform(m.weight.data)\n"
     ]
    }
   ],
   "source": [
    "# 7. Optimizer, Objective Function 설정 \n",
    "import torch.nn.init as init \n",
    "\n",
    "# 가중치 초기화 함수 정의\n",
    "def weight_init(m):\n",
    "    # m이 nn.Linear 즉 선형결합 층(Linear layer)인 경우에만 초기화 수행 \n",
    "    if isinstance(m, nn.Linear):\n",
    "        # kaming 균등분포 초기화 적용 (He 초기화)\n",
    "        init.kaiming_uniform(m.weight.data)\n",
    "\n",
    "# 모델을 DEVICE(GPU or CPU)로 이동 \n",
    "model = Net().to(DEVICE)\n",
    "\n",
    "# 정의한 초기화 함수를 모델의 모든 서브모듈(층:layer)에 적용\n",
    "model.apply(weight_init)\n",
    "\n",
    "# 최적화 알고리즘 Adam 채택 및 옵션 설정 (학습률 0.01)\n",
    "optimizer = torch.optim.Adam(model.parameters(),lr = 0.01)\n",
    "\n",
    "# 손실함수로 교차엔트로피 설정 (분류 문제에 주로 사용)\n",
    "criterion = nn.CrossEntropyLoss()\n",
    "\n",
    "# 모델 구조 출력\n",
    "print(model)"
   ]
  },
  {
   "cell_type": "code",
   "execution_count": 10,
   "id": "6bedf20b",
   "metadata": {},
   "outputs": [],
   "source": [
    "# 8. MLP 모델 학습을 진행하면서 학습 데이터에 대한 모델 성능을 확인하는 함수 정의하기 (원래 책에 적혀있던거 Epoch를 인자로 안받아오는게 이상함)\n",
    "def train(model, train_loader, optimizer, log_interval):\n",
    "    model.train()\n",
    "    for batch_idx, (image, label) in enumerate(train_loader):\n",
    "        image=image.to(DEVICE)\n",
    "        label=label.to(DEVICE)\n",
    "        optimizer.zero_grad()\n",
    "        output = model(image)\n",
    "        loss = criterion(output,label)\n",
    "        loss.backward()\n",
    "        optimizer.step()\n",
    "        \n",
    "        if batch_idx % log_interval == 0:\n",
    "            print(\"Train Epoch: {} [{}/{}({:.0f}%)]\\tTrain Loss: {:.6f}\".format(Epoch,batch_idx*len(image),len(train_loader.dataset), 100. * batch_idx / len(train_loader),loss.item()))\n",
    "           "
   ]
  },
  {
   "cell_type": "code",
   "execution_count": 11,
   "id": "16e381e6",
   "metadata": {},
   "outputs": [],
   "source": [
    "# f포맷팅 적용 & Epoch 인자 추가\n",
    "def train(Epoch,model, train_loader, optimizer, log_interval):\n",
    "    model.train()\n",
    "    for batch_idx, (image, label) in enumerate(train_loader):\n",
    "        image=image.to(DEVICE)\n",
    "        label=label.to(DEVICE)\n",
    "        optimizer.zero_grad()\n",
    "        output = model(image)\n",
    "        loss = criterion(output,label)\n",
    "        loss.backward()\n",
    "        optimizer.step()\n",
    "        \n",
    "        if batch_idx % log_interval == 0:\n",
    "            print(f\"Train Epoch: {Epoch} [{batch_idx*len(image)}/{len(train_loader.dataset)}({100. * batch_idx / len(train_loader):.0f}%)]\\tTrain Loss: {loss.item():.6f}\")\n",
    "     "
   ]
  },
  {
   "cell_type": "code",
   "execution_count": 12,
   "id": "dc544043",
   "metadata": {},
   "outputs": [],
   "source": [
    "# 9.학습되는 과정 속에서 검증 데이터에 대한 모델의 성능을 확인하는 함수 정의하기 \n",
    "def evaluate(model, test_loader):\n",
    "    model.eval()\n",
    "    test_loss = 0\n",
    "    correct = 0 \n",
    "    \n",
    "    with torch.no_grad():\n",
    "        for image, label in test_loader:\n",
    "            image = image.to(DEVICE)\n",
    "            label = label.to(DEVICE)\n",
    "            output = model(image)\n",
    "            test_loss += criterion(output, label).item()\n",
    "            prediction = output.max(1,keepdim = True)[1]\n",
    "            correct += prediction.eq(label.view_as(prediction)).sum().item()\n",
    "            \n",
    "    test_loss /= len(test_loader.dataset)\n",
    "    test_accuracy =100. * correct / len(test_loader.dataset)\n",
    "    return test_loss, test_accuracy            "
   ]
  },
  {
   "cell_type": "code",
   "execution_count": 14,
   "id": "b9754596",
   "metadata": {},
   "outputs": [
    {
     "name": "stdout",
     "output_type": "stream",
     "text": [
      "Train Epoch: 1 [0/60000(0%)]\tTrain Loss: 0.191023\n",
      "Train Epoch: 1 [6400/60000(11%)]\tTrain Loss: 0.064654\n",
      "Train Epoch: 1 [12800/60000(21%)]\tTrain Loss: 0.301828\n",
      "Train Epoch: 1 [19200/60000(32%)]\tTrain Loss: 0.081010\n",
      "Train Epoch: 1 [25600/60000(43%)]\tTrain Loss: 0.508605\n",
      "Train Epoch: 1 [32000/60000(53%)]\tTrain Loss: 0.127033\n",
      "Train Epoch: 1 [38400/60000(64%)]\tTrain Loss: 0.054180\n",
      "Train Epoch: 1 [44800/60000(75%)]\tTrain Loss: 0.020839\n",
      "Train Epoch: 1 [51200/60000(85%)]\tTrain Loss: 0.567582\n",
      "Train Epoch: 1 [57600/60000(96%)]\tTrain Loss: 0.232170\n",
      "\n",
      "[EPOCH]: 1, \tTest Loss: 0.0020, \tTest Accuracy: 97.93 %\n",
      "\n",
      "Train Epoch: 2 [0/60000(0%)]\tTrain Loss: 0.080162\n",
      "Train Epoch: 2 [6400/60000(11%)]\tTrain Loss: 0.321749\n",
      "Train Epoch: 2 [12800/60000(21%)]\tTrain Loss: 0.139422\n",
      "Train Epoch: 2 [19200/60000(32%)]\tTrain Loss: 0.189763\n",
      "Train Epoch: 2 [25600/60000(43%)]\tTrain Loss: 0.079219\n",
      "Train Epoch: 2 [32000/60000(53%)]\tTrain Loss: 0.264795\n",
      "Train Epoch: 2 [38400/60000(64%)]\tTrain Loss: 0.020253\n",
      "Train Epoch: 2 [44800/60000(75%)]\tTrain Loss: 0.433505\n",
      "Train Epoch: 2 [51200/60000(85%)]\tTrain Loss: 0.059195\n",
      "Train Epoch: 2 [57600/60000(96%)]\tTrain Loss: 0.093518\n",
      "\n",
      "[EPOCH]: 2, \tTest Loss: 0.0022, \tTest Accuracy: 97.95 %\n",
      "\n",
      "Train Epoch: 3 [0/60000(0%)]\tTrain Loss: 0.012467\n",
      "Train Epoch: 3 [6400/60000(11%)]\tTrain Loss: 0.197318\n",
      "Train Epoch: 3 [12800/60000(21%)]\tTrain Loss: 0.032239\n",
      "Train Epoch: 3 [19200/60000(32%)]\tTrain Loss: 0.101654\n",
      "Train Epoch: 3 [25600/60000(43%)]\tTrain Loss: 0.119341\n",
      "Train Epoch: 3 [32000/60000(53%)]\tTrain Loss: 0.040832\n",
      "Train Epoch: 3 [38400/60000(64%)]\tTrain Loss: 0.213804\n",
      "Train Epoch: 3 [44800/60000(75%)]\tTrain Loss: 0.035739\n",
      "Train Epoch: 3 [51200/60000(85%)]\tTrain Loss: 0.065495\n",
      "Train Epoch: 3 [57600/60000(96%)]\tTrain Loss: 0.019363\n",
      "\n",
      "[EPOCH]: 3, \tTest Loss: 0.0022, \tTest Accuracy: 98.02 %\n",
      "\n",
      "Train Epoch: 4 [0/60000(0%)]\tTrain Loss: 0.258119\n",
      "Train Epoch: 4 [6400/60000(11%)]\tTrain Loss: 0.038520\n",
      "Train Epoch: 4 [12800/60000(21%)]\tTrain Loss: 0.223340\n",
      "Train Epoch: 4 [19200/60000(32%)]\tTrain Loss: 0.303834\n",
      "Train Epoch: 4 [25600/60000(43%)]\tTrain Loss: 0.105955\n",
      "Train Epoch: 4 [32000/60000(53%)]\tTrain Loss: 0.391311\n",
      "Train Epoch: 4 [38400/60000(64%)]\tTrain Loss: 0.187599\n",
      "Train Epoch: 4 [44800/60000(75%)]\tTrain Loss: 0.147669\n",
      "Train Epoch: 4 [51200/60000(85%)]\tTrain Loss: 0.023813\n",
      "Train Epoch: 4 [57600/60000(96%)]\tTrain Loss: 0.277899\n",
      "\n",
      "[EPOCH]: 4, \tTest Loss: 0.0020, \tTest Accuracy: 98.07 %\n",
      "\n",
      "Train Epoch: 5 [0/60000(0%)]\tTrain Loss: 0.144318\n",
      "Train Epoch: 5 [6400/60000(11%)]\tTrain Loss: 0.077117\n",
      "Train Epoch: 5 [12800/60000(21%)]\tTrain Loss: 0.053742\n",
      "Train Epoch: 5 [19200/60000(32%)]\tTrain Loss: 0.169161\n",
      "Train Epoch: 5 [25600/60000(43%)]\tTrain Loss: 0.142881\n",
      "Train Epoch: 5 [32000/60000(53%)]\tTrain Loss: 0.011697\n",
      "Train Epoch: 5 [38400/60000(64%)]\tTrain Loss: 0.068309\n",
      "Train Epoch: 5 [44800/60000(75%)]\tTrain Loss: 0.061218\n",
      "Train Epoch: 5 [51200/60000(85%)]\tTrain Loss: 0.366957\n",
      "Train Epoch: 5 [57600/60000(96%)]\tTrain Loss: 0.045567\n",
      "\n",
      "[EPOCH]: 5, \tTest Loss: 0.0020, \tTest Accuracy: 98.16 %\n",
      "\n",
      "Train Epoch: 6 [0/60000(0%)]\tTrain Loss: 0.425718\n",
      "Train Epoch: 6 [6400/60000(11%)]\tTrain Loss: 0.206734\n",
      "Train Epoch: 6 [12800/60000(21%)]\tTrain Loss: 0.079856\n",
      "Train Epoch: 6 [19200/60000(32%)]\tTrain Loss: 0.349835\n",
      "Train Epoch: 6 [25600/60000(43%)]\tTrain Loss: 0.058174\n",
      "Train Epoch: 6 [32000/60000(53%)]\tTrain Loss: 0.032510\n",
      "Train Epoch: 6 [38400/60000(64%)]\tTrain Loss: 0.157755\n",
      "Train Epoch: 6 [44800/60000(75%)]\tTrain Loss: 0.337405\n",
      "Train Epoch: 6 [51200/60000(85%)]\tTrain Loss: 0.024147\n",
      "Train Epoch: 6 [57600/60000(96%)]\tTrain Loss: 0.218271\n",
      "\n",
      "[EPOCH]: 6, \tTest Loss: 0.0021, \tTest Accuracy: 98.04 %\n",
      "\n",
      "Train Epoch: 7 [0/60000(0%)]\tTrain Loss: 0.027539\n",
      "Train Epoch: 7 [6400/60000(11%)]\tTrain Loss: 0.245694\n",
      "Train Epoch: 7 [12800/60000(21%)]\tTrain Loss: 0.053567\n",
      "Train Epoch: 7 [19200/60000(32%)]\tTrain Loss: 0.039552\n",
      "Train Epoch: 7 [25600/60000(43%)]\tTrain Loss: 0.124843\n",
      "Train Epoch: 7 [32000/60000(53%)]\tTrain Loss: 0.114052\n",
      "Train Epoch: 7 [38400/60000(64%)]\tTrain Loss: 0.043574\n",
      "Train Epoch: 7 [44800/60000(75%)]\tTrain Loss: 0.028233\n",
      "Train Epoch: 7 [51200/60000(85%)]\tTrain Loss: 0.035541\n",
      "Train Epoch: 7 [57600/60000(96%)]\tTrain Loss: 0.146530\n",
      "\n",
      "[EPOCH]: 7, \tTest Loss: 0.0020, \tTest Accuracy: 98.10 %\n",
      "\n",
      "Train Epoch: 8 [0/60000(0%)]\tTrain Loss: 0.032428\n",
      "Train Epoch: 8 [6400/60000(11%)]\tTrain Loss: 0.083352\n",
      "Train Epoch: 8 [12800/60000(21%)]\tTrain Loss: 0.052011\n",
      "Train Epoch: 8 [19200/60000(32%)]\tTrain Loss: 0.134095\n",
      "Train Epoch: 8 [25600/60000(43%)]\tTrain Loss: 0.123212\n",
      "Train Epoch: 8 [32000/60000(53%)]\tTrain Loss: 0.044666\n",
      "Train Epoch: 8 [38400/60000(64%)]\tTrain Loss: 0.190958\n",
      "Train Epoch: 8 [44800/60000(75%)]\tTrain Loss: 0.160894\n",
      "Train Epoch: 8 [51200/60000(85%)]\tTrain Loss: 0.115661\n",
      "Train Epoch: 8 [57600/60000(96%)]\tTrain Loss: 0.112801\n",
      "\n",
      "[EPOCH]: 8, \tTest Loss: 0.0019, \tTest Accuracy: 98.17 %\n",
      "\n",
      "Train Epoch: 9 [0/60000(0%)]\tTrain Loss: 0.077944\n",
      "Train Epoch: 9 [6400/60000(11%)]\tTrain Loss: 0.055384\n",
      "Train Epoch: 9 [12800/60000(21%)]\tTrain Loss: 0.049945\n",
      "Train Epoch: 9 [19200/60000(32%)]\tTrain Loss: 0.012758\n",
      "Train Epoch: 9 [25600/60000(43%)]\tTrain Loss: 0.020195\n",
      "Train Epoch: 9 [32000/60000(53%)]\tTrain Loss: 0.117888\n",
      "Train Epoch: 9 [38400/60000(64%)]\tTrain Loss: 0.238334\n",
      "Train Epoch: 9 [44800/60000(75%)]\tTrain Loss: 0.084079\n",
      "Train Epoch: 9 [51200/60000(85%)]\tTrain Loss: 0.132928\n",
      "Train Epoch: 9 [57600/60000(96%)]\tTrain Loss: 0.339444\n",
      "\n",
      "[EPOCH]: 9, \tTest Loss: 0.0019, \tTest Accuracy: 98.25 %\n",
      "\n",
      "Train Epoch: 10 [0/60000(0%)]\tTrain Loss: 0.053542\n",
      "Train Epoch: 10 [6400/60000(11%)]\tTrain Loss: 0.035140\n",
      "Train Epoch: 10 [12800/60000(21%)]\tTrain Loss: 0.035740\n",
      "Train Epoch: 10 [19200/60000(32%)]\tTrain Loss: 0.071830\n",
      "Train Epoch: 10 [25600/60000(43%)]\tTrain Loss: 0.097825\n",
      "Train Epoch: 10 [32000/60000(53%)]\tTrain Loss: 0.170580\n",
      "Train Epoch: 10 [38400/60000(64%)]\tTrain Loss: 0.033685\n",
      "Train Epoch: 10 [44800/60000(75%)]\tTrain Loss: 0.010171\n",
      "Train Epoch: 10 [51200/60000(85%)]\tTrain Loss: 0.043691\n",
      "Train Epoch: 10 [57600/60000(96%)]\tTrain Loss: 0.233920\n",
      "\n",
      "[EPOCH]: 10, \tTest Loss: 0.0018, \tTest Accuracy: 98.46 %\n",
      "\n"
     ]
    }
   ],
   "source": [
    "# 10. MLP 학습을 실행하면서 Train, Test set의 Loss 및 Test set Accuracy 확인하기 \n",
    "for Epoch in range(1,EPOCHS+1):\n",
    "    train(Epoch,model,train_loader, optimizer, log_interval = 200)\n",
    "    test_loss, test_accuracy = evaluate(model, test_loader)\n",
    "    print(f\"\\n[EPOCH]: {Epoch}, \\tTest Loss: {test_loss:.4f}, \\tTest Accuracy: {test_accuracy:.2f} %\\n\")"
   ]
  }
 ],
 "metadata": {
  "kernelspec": {
   "display_name": "firstproject",
   "language": "python",
   "name": "python3"
  },
  "language_info": {
   "codemirror_mode": {
    "name": "ipython",
    "version": 3
   },
   "file_extension": ".py",
   "mimetype": "text/x-python",
   "name": "python",
   "nbconvert_exporter": "python",
   "pygments_lexer": "ipython3",
   "version": "3.12.9"
  }
 },
 "nbformat": 4,
 "nbformat_minor": 5
}
