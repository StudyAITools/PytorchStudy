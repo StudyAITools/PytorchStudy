{
 "cells": [
  {
   "cell_type": "code",
   "execution_count": 1,
   "id": "f94ac6e0",
   "metadata": {},
   "outputs": [],
   "source": [
    "# 1. Module Import\n",
    "import numpy as np  # 1. 선형대수와 관련된 함수를 쉽게 이용할 수 있는 모듈 \n",
    "import matplotlib.pyplot as plt  # 2. 함수 실행 결과 산출물에 대한 수치를 사람이쉽게 이해할 수 있도록 시각화 할 수 있는 외부 모듈\n",
    "import torch  # 3. 우리가 이용하는 딥러닝 프레임워크 중 하나인 파이토치의 기본 모듈\n",
    "import torch.nn as nn  # 4. pyTorch.Module 중 딥러닝 , 즉 인공 신경망 모델을 설계할 떄 필요한 함수를 모아 놓은 모듈\n",
    "import torch.nn.functional as F  # 5. torch.nn 은  모듈 중에서도 자주 이용되는 함수를 F 로 지정\n",
    "from torchvision import transforms, datasets  # 6. 컴퓨터 비전 연구 분야에서 자주 이용하는 'torchvision' 모듈 내 ' transforms', 'datasets'함수를 임포트"
   ]
  },
  {
   "cell_type": "code",
   "execution_count": 2,
   "id": "62d7f5dd",
   "metadata": {},
   "outputs": [
    {
     "name": "stdout",
     "output_type": "stream",
     "text": [
      "Torch version: 2.8.0+cu126\n",
      "Torchvision version: 0.23.0+cu126\n",
      "CUDA version: 12.6\n",
      "CUDA available: True\n",
      "GPU name: NVIDIA GeForce RTX 3070\n"
     ]
    }
   ],
   "source": [
    "import torch\n",
    "import torchvision\n",
    "\n",
    "print(\"Torch version:\", torch.__version__)\n",
    "print(\"Torchvision version:\", torchvision.__version__)\n",
    "print(\"CUDA version:\", torch.version.cuda)\n",
    "print(\"CUDA available:\", torch.cuda.is_available())\n",
    "print(\"GPU name:\", torch.cuda.get_device_name(0) if torch.cuda.is_available() else \"No GPU detected\")\n",
    "\n"
   ]
  },
  {
   "cell_type": "code",
   "execution_count": 3,
   "id": "7b9dab41",
   "metadata": {},
   "outputs": [
    {
     "name": "stdout",
     "output_type": "stream",
     "text": [
      "Using PyTorch version: 2.8.0+cu126 Device: cuda\n"
     ]
    }
   ],
   "source": [
    "# 딥러닝 모델을 설계할 때 활용하는 장비 확인 \n",
    "if torch.cuda.is_available():\n",
    "    DEVICE =torch.device('cuda')\n",
    "else:\n",
    "    DEVICE = torch.device('cpu')\n",
    "    \n",
    "print('Using PyTorch version:',torch.__version__ , 'Device:', DEVICE)"
   ]
  },
  {
   "cell_type": "code",
   "execution_count": 4,
   "id": "eb3fdd40",
   "metadata": {},
   "outputs": [],
   "source": [
    "# 하이퍼 파라미터 지정\n",
    "BATCH_SIZE = 32  # MLP 학습시 Mini-Batch 1회(Iteration)당 사용되는 학습 데이터 수\n",
    "EPOCHS = 10  # 전체 데이터를 이용해 학습을 진행한 횟수, ex) 전체 데이터 1만개, Mini_Batch 1개당 BATCH_SIZE 1000개 = Mini_Batch 10Iteration = 1 EPOCH \n"
   ]
  },
  {
   "cell_type": "code",
   "execution_count": 5,
   "id": "285cfbe5",
   "metadata": {},
   "outputs": [],
   "source": [
    "# MNIST 데이터 다운로드 및 DataLoader 구성 (Train/Test 세트 분리)\n",
    "\n",
    "# 1. 학습용 데이터셋 다운로드\n",
    "train_dataset = datasets.MNIST(\n",
    "    root=\"./data/MNIST\",               # 데이터를 저장할 디렉토리 경로\n",
    "    train=True,                        # 학습용 데이터 지정\n",
    "    download=True,                     # 데이터가 없으면 인터넷에서 자동 다운로드\n",
    "    transform=transforms.ToTensor()    # 이미지를 Tensor로 변환 (0~1 범위로 정규화됨)\n",
    ")\n",
    "\n",
    "# 2. 테스트용 데이터셋 다운로드\n",
    "test_dataset = datasets.MNIST(\n",
    "    root=\"./data/MNIST\",               # 동일한 저장 경로\n",
    "    train=False,                       # 테스트용 데이터 지정\n",
    "    transform=transforms.ToTensor()    # 이미지 Tensor 변환 및 정규화\n",
    ")\n",
    "\n",
    "# 3. 학습용 데이터 로더 설정\n",
    "train_loader = torch.utils.data.DataLoader(\n",
    "    dataset=train_dataset,             # 학습 데이터셋 지정\n",
    "    batch_size=BATCH_SIZE,             # 한 번에 불러올 데이터 수\n",
    "    shuffle=True                       # 매 epoch마다 데이터를 섞어서 학습 (일반적으로 True로 설정)\n",
    ")\n",
    "\n",
    "# 4. 테스트용 데이터 로더 설정\n",
    "test_loader = torch.utils.data.DataLoader(\n",
    "    dataset=test_dataset,              # 테스트 데이터셋 지정\n",
    "    batch_size=BATCH_SIZE,             # 테스트 시에도 동일한 배치 크기 사용\n",
    "    shuffle=False                      # 테스트 데이터는 순서를 유지 (일반적으로 False)\n",
    ")\n"
   ]
  },
  {
   "cell_type": "code",
   "execution_count": 6,
   "id": "8a5106a7",
   "metadata": {},
   "outputs": [
    {
     "name": "stdout",
     "output_type": "stream",
     "text": [
      "x_train: torch.Size([32, 1, 28, 28]) type: torch.FloatTensor\n",
      "y_train: torch.Size([32]) type: torch.LongTensor\n"
     ]
    }
   ],
   "source": [
    "# 4. 데이터 확인하기(1)\n",
    "for (x_train, y_train) in train_loader:\n",
    "    print('x_train:', x_train.size(),'type:',x_train.type())   # 32개의 이미지 데이터 = Mini-Batch 1개 구성  = 한 개의 이미지는 가로 28개, 세로 28개의 픽셀, 채널 1개인 흑백 이미지 데이터\n",
    "    print('y_train:', y_train.size(),'type:',y_train.type())   # 32개의 이미지 데이터 각각의 대한 라벨링 데이터  \n",
    "    break\n"
   ]
  },
  {
   "cell_type": "code",
   "execution_count": 7,
   "id": "69718bb9",
   "metadata": {},
   "outputs": [
    {
     "data": {
      "image/png": "[encoded data removed]",
      "text/plain": [
       "<Figure size 1000x100 with 10 Axes>"
      ]
     },
     "metadata": {},
     "output_type": "display_data"
    }
   ],
   "source": [
    "# 5. 데이터 확인하기(2) \n",
    "pltsize = 1 \n",
    "plt.figure(figsize=(10 * pltsize,pltsize))\n",
    "for i in range(10):\n",
    "    plt.subplot(1,10,i+1)\n",
    "    plt.axis('off')\n",
    "    plt.imshow(x_train[i,:,:,:].numpy().reshape(28,28), cmap ='grey_r')\n",
    "    plt.title('Class: ' + str(y_train[i].item()))"
   ]
  },
  {
   "cell_type": "code",
   "execution_count": 8,
   "id": "c5fa3666",
   "metadata": {},
   "outputs": [],
   "source": [
    "# 6. MLP(Multi Layer Perception) 모델 설계하기\n",
    "\n",
    "class Net(nn.Module):\n",
    "    def __init__(self):\n",
    "        super(Net, self).__init__()\n",
    "        self.fc1 = nn.Linear(28*28,512)\n",
    "        self.fc2 = nn.Linear(512,256)\n",
    "        self.fc3 = nn.Linear(256,10)\n",
    "    def forward(self, x):\n",
    "        x = x.view(-1, 28*28)\n",
    "        x = self.fc1(x)\n",
    "        x = F.sigmoid(x)\n",
    "        x = self.fc2(x)\n",
    "        x = F.sigmoid(x)\n",
    "        x = self.fc3(x)\n",
    "        x = F.log_softmax(x, dim=1)\n",
    "        return x"
   ]
  },
  {
   "cell_type": "code",
   "execution_count": 9,
   "id": "1508ed6a",
   "metadata": {},
   "outputs": [],
   "source": [
    "# 다층 퍼셉트론(MLP) 모델 정의\n",
    "class Net(nn.Module):  # nn.module → nn.Module (클래스명은 대문자로 시작해야 함)\n",
    "    def __init__(self):\n",
    "        super(Net, self).__init__() \n",
    "        \n",
    "        # 첫 번째 완전 연결층 (입력: 28x28 픽셀 → 출력: 512 노드)\n",
    "        self.fc1 = nn.Linear(28*28, 512)  \n",
    "\n",
    "        # 두 번째 완전 연결층 (입력: 512 노드 → 출력: 256 노드)\n",
    "        self.fc2 = nn.Linear(512, 256)\n",
    "\n",
    "        # 세 번째 완전 연결층 (입력: 256 노드 → 출력: 10 클래스)\n",
    "        self.fc3 = nn.Linear(256, 10)\n",
    "\n",
    "    def forward(self, x):\n",
    "        # 이미지를 1차원 벡터로 변환 (배치 크기, 784)\n",
    "        x = x.view(-1, 28*28)\n",
    "\n",
    "        # 첫 번째 층 + sigmoid 활성화 함수\n",
    "        x = self.fc1(x)\n",
    "        x = F.sigmoid(x)  # 최근에는 ReLU를 더 많이 사용함\n",
    "\n",
    "        # 두 번째 층 + sigmoid 활성화 함수\n",
    "        x = self.fc2(x)\n",
    "        x = F.sigmoid(x)\n",
    "\n",
    "        # 세 번째 층 + log_softmax 활성화 함수 (출력: 확률 로그값)\n",
    "        x = self.fc3(x)\n",
    "        x = F.log_softmax(x, dim=1)\n",
    "\n",
    "        return x\n"
   ]
  },
  {
   "cell_type": "code",
   "execution_count": 10,
   "id": "d60a05b2",
   "metadata": {},
   "outputs": [
    {
     "name": "stdout",
     "output_type": "stream",
     "text": [
      "Net(\n",
      "  (fc1): Linear(in_features=784, out_features=512, bias=True)\n",
      "  (fc2): Linear(in_features=512, out_features=256, bias=True)\n",
      "  (fc3): Linear(in_features=256, out_features=10, bias=True)\n",
      ")\n"
     ]
    }
   ],
   "source": [
    "# 7. Optimizer, Objective Function 설정 \n",
    "model = Net().to(DEVICE)\n",
    "optimizer = torch.optim.SGD(model.parameters(),lr = 0.01, momentum=0.5)\n",
    "criterion = nn.CrossEntropyLoss()\n",
    "print(model)"
   ]
  },
  {
   "cell_type": "code",
   "execution_count": 11,
   "id": "6bedf20b",
   "metadata": {},
   "outputs": [],
   "source": [
    "# 8. MLP 모델 학습을 진행하면서 학습 데이터에 대한 모델 성능을 확인하는 함수 정의하기 (원래 책에 적혀있던거 Epoch를 인자로 안받아오는게 이상함)\n",
    "def train(model, train_loader, optimizer, log_interval):\n",
    "    model.train()\n",
    "    for batch_idx, (image, label) in enumerate(train_loader):\n",
    "        image=image.to(DEVICE)\n",
    "        label=label.to(DEVICE)\n",
    "        optimizer.zero_grad()\n",
    "        output = model(image)\n",
    "        loss = criterion(output,label)\n",
    "        loss.backward()\n",
    "        optimizer.step()\n",
    "        \n",
    "        if batch_idx % log_interval == 0:\n",
    "            print(\"Train Epoch: {} [{}/{}({:.0f}%)]\\tTrain Loss: {:.6f}\".format(Epoch,batch_idx*len(image),len(train_loader.dataset), 100. * batch_idx / len(train_loader),loss.item()))\n",
    "           "
   ]
  },
  {
   "cell_type": "code",
   "execution_count": 12,
   "id": "16e381e6",
   "metadata": {},
   "outputs": [],
   "source": [
    "# f포맷팅 적용 & Epoch 인자 추가\n",
    "def train(Epoch,model, train_loader, optimizer, log_interval):\n",
    "    model.train()\n",
    "    for batch_idx, (image, label) in enumerate(train_loader):\n",
    "        image=image.to(DEVICE)\n",
    "        label=label.to(DEVICE)\n",
    "        optimizer.zero_grad()\n",
    "        output = model(image)\n",
    "        loss = criterion(output,label)\n",
    "        loss.backward()\n",
    "        optimizer.step()\n",
    "        \n",
    "        if batch_idx % log_interval == 0:\n",
    "            print(f\"Train Epoch: {Epoch} [{batch_idx*len(image)}/{len(train_loader.dataset)}({100. * batch_idx / len(train_loader):.0f}%)]\\tTrain Loss: {loss.item():.6f}\")\n",
    "     "
   ]
  },
  {
   "cell_type": "code",
   "execution_count": 13,
   "id": "dc544043",
   "metadata": {},
   "outputs": [],
   "source": [
    "# 9.학습되는 과정 속에서 검증 데이터에 대한 모델의 성능을 확인하는 함수 정의하기 \n",
    "def evaluate(model, test_loader):\n",
    "    model.eval()\n",
    "    test_loss = 0\n",
    "    correct = 0 \n",
    "    \n",
    "    with torch.no_grad():\n",
    "        for image, label in test_loader:\n",
    "            image = image.to(DEVICE)\n",
    "            label = label.to(DEVICE)\n",
    "            output = model(image)\n",
    "            test_loss += criterion(output, label).item()\n",
    "            prediction = output.max(1,keepdim = True)[1]\n",
    "            correct += prediction.eq(label.view_as(prediction)).sum().item()\n",
    "            \n",
    "    test_loss /= len(test_loader.dataset)\n",
    "    test_accuracy =100. * correct / len(test_loader.dataset)\n",
    "    return test_loss, test_accuracy            "
   ]
  },
  {
   "cell_type": "code",
   "execution_count": 14,
   "id": "b9754596",
   "metadata": {},
   "outputs": [
    {
     "name": "stdout",
     "output_type": "stream",
     "text": [
      "Train Epoch: 1 [0/60000(0%)]\tTrain Loss: 2.328485\n",
      "Train Epoch: 1 [6400/60000(11%)]\tTrain Loss: 2.289190\n",
      "Train Epoch: 1 [12800/60000(21%)]\tTrain Loss: 2.294537\n",
      "Train Epoch: 1 [19200/60000(32%)]\tTrain Loss: 2.300959\n",
      "Train Epoch: 1 [25600/60000(43%)]\tTrain Loss: 2.261465\n",
      "Train Epoch: 1 [32000/60000(53%)]\tTrain Loss: 2.270729\n",
      "Train Epoch: 1 [38400/60000(64%)]\tTrain Loss: 2.290059\n",
      "Train Epoch: 1 [44800/60000(75%)]\tTrain Loss: 2.272242\n",
      "Train Epoch: 1 [51200/60000(85%)]\tTrain Loss: 2.268332\n",
      "Train Epoch: 1 [57600/60000(96%)]\tTrain Loss: 2.286579\n",
      "\n",
      "[EPOCH]: 1, \tTest Loss: 0.0698, \tTest Accuracy: 14.51 %\n",
      "\n",
      "Train Epoch: 2 [0/60000(0%)]\tTrain Loss: 2.230188\n",
      "Train Epoch: 2 [6400/60000(11%)]\tTrain Loss: 2.202654\n",
      "Train Epoch: 2 [12800/60000(21%)]\tTrain Loss: 2.128322\n",
      "Train Epoch: 2 [19200/60000(32%)]\tTrain Loss: 2.052572\n",
      "Train Epoch: 2 [25600/60000(43%)]\tTrain Loss: 1.995889\n",
      "Train Epoch: 2 [32000/60000(53%)]\tTrain Loss: 1.776365\n",
      "Train Epoch: 2 [38400/60000(64%)]\tTrain Loss: 1.670245\n",
      "Train Epoch: 2 [44800/60000(75%)]\tTrain Loss: 1.533546\n",
      "Train Epoch: 2 [51200/60000(85%)]\tTrain Loss: 1.314548\n",
      "Train Epoch: 2 [57600/60000(96%)]\tTrain Loss: 1.363708\n",
      "\n",
      "[EPOCH]: 2, \tTest Loss: 0.0387, \tTest Accuracy: 64.23 %\n",
      "\n",
      "Train Epoch: 3 [0/60000(0%)]\tTrain Loss: 1.066617\n",
      "Train Epoch: 3 [6400/60000(11%)]\tTrain Loss: 1.212753\n",
      "Train Epoch: 3 [12800/60000(21%)]\tTrain Loss: 1.079890\n",
      "Train Epoch: 3 [19200/60000(32%)]\tTrain Loss: 0.989966\n",
      "Train Epoch: 3 [25600/60000(43%)]\tTrain Loss: 0.805626\n",
      "Train Epoch: 3 [32000/60000(53%)]\tTrain Loss: 0.651699\n",
      "Train Epoch: 3 [38400/60000(64%)]\tTrain Loss: 0.881454\n",
      "Train Epoch: 3 [44800/60000(75%)]\tTrain Loss: 1.168665\n",
      "Train Epoch: 3 [51200/60000(85%)]\tTrain Loss: 0.816966\n",
      "Train Epoch: 3 [57600/60000(96%)]\tTrain Loss: 0.830937\n",
      "\n",
      "[EPOCH]: 3, \tTest Loss: 0.0231, \tTest Accuracy: 78.20 %\n",
      "\n",
      "Train Epoch: 4 [0/60000(0%)]\tTrain Loss: 0.852343\n",
      "Train Epoch: 4 [6400/60000(11%)]\tTrain Loss: 0.771845\n",
      "Train Epoch: 4 [12800/60000(21%)]\tTrain Loss: 0.670052\n",
      "Train Epoch: 4 [19200/60000(32%)]\tTrain Loss: 0.573359\n",
      "Train Epoch: 4 [25600/60000(43%)]\tTrain Loss: 0.484371\n",
      "Train Epoch: 4 [32000/60000(53%)]\tTrain Loss: 0.513288\n",
      "Train Epoch: 4 [38400/60000(64%)]\tTrain Loss: 0.758712\n",
      "Train Epoch: 4 [44800/60000(75%)]\tTrain Loss: 0.499453\n",
      "Train Epoch: 4 [51200/60000(85%)]\tTrain Loss: 0.959828\n",
      "Train Epoch: 4 [57600/60000(96%)]\tTrain Loss: 0.463748\n",
      "\n",
      "[EPOCH]: 4, \tTest Loss: 0.0171, \tTest Accuracy: 84.62 %\n",
      "\n",
      "Train Epoch: 5 [0/60000(0%)]\tTrain Loss: 0.902068\n",
      "Train Epoch: 5 [6400/60000(11%)]\tTrain Loss: 0.455735\n",
      "Train Epoch: 5 [12800/60000(21%)]\tTrain Loss: 0.444732\n",
      "Train Epoch: 5 [19200/60000(32%)]\tTrain Loss: 0.730454\n",
      "Train Epoch: 5 [25600/60000(43%)]\tTrain Loss: 0.726872\n",
      "Train Epoch: 5 [32000/60000(53%)]\tTrain Loss: 0.560531\n",
      "Train Epoch: 5 [38400/60000(64%)]\tTrain Loss: 0.944030\n",
      "Train Epoch: 5 [44800/60000(75%)]\tTrain Loss: 0.751509\n",
      "Train Epoch: 5 [51200/60000(85%)]\tTrain Loss: 0.468153\n",
      "Train Epoch: 5 [57600/60000(96%)]\tTrain Loss: 0.341019\n",
      "\n",
      "[EPOCH]: 5, \tTest Loss: 0.0142, \tTest Accuracy: 86.71 %\n",
      "\n",
      "Train Epoch: 6 [0/60000(0%)]\tTrain Loss: 0.664945\n",
      "Train Epoch: 6 [6400/60000(11%)]\tTrain Loss: 0.362036\n",
      "Train Epoch: 6 [12800/60000(21%)]\tTrain Loss: 0.407075\n",
      "Train Epoch: 6 [19200/60000(32%)]\tTrain Loss: 0.394634\n",
      "Train Epoch: 6 [25600/60000(43%)]\tTrain Loss: 0.258635\n",
      "Train Epoch: 6 [32000/60000(53%)]\tTrain Loss: 0.523654\n",
      "Train Epoch: 6 [38400/60000(64%)]\tTrain Loss: 0.437526\n",
      "Train Epoch: 6 [44800/60000(75%)]\tTrain Loss: 0.221912\n",
      "Train Epoch: 6 [51200/60000(85%)]\tTrain Loss: 0.383427\n",
      "Train Epoch: 6 [57600/60000(96%)]\tTrain Loss: 0.586921\n",
      "\n",
      "[EPOCH]: 6, \tTest Loss: 0.0128, \tTest Accuracy: 88.03 %\n",
      "\n",
      "Train Epoch: 7 [0/60000(0%)]\tTrain Loss: 0.247299\n",
      "Train Epoch: 7 [6400/60000(11%)]\tTrain Loss: 0.467554\n",
      "Train Epoch: 7 [12800/60000(21%)]\tTrain Loss: 0.466934\n",
      "Train Epoch: 7 [19200/60000(32%)]\tTrain Loss: 0.202937\n",
      "Train Epoch: 7 [25600/60000(43%)]\tTrain Loss: 0.628572\n",
      "Train Epoch: 7 [32000/60000(53%)]\tTrain Loss: 0.306171\n",
      "Train Epoch: 7 [38400/60000(64%)]\tTrain Loss: 0.215310\n",
      "Train Epoch: 7 [44800/60000(75%)]\tTrain Loss: 0.185969\n",
      "Train Epoch: 7 [51200/60000(85%)]\tTrain Loss: 0.265431\n",
      "Train Epoch: 7 [57600/60000(96%)]\tTrain Loss: 0.303085\n",
      "\n",
      "[EPOCH]: 7, \tTest Loss: 0.0119, \tTest Accuracy: 88.94 %\n",
      "\n",
      "Train Epoch: 8 [0/60000(0%)]\tTrain Loss: 0.162228\n",
      "Train Epoch: 8 [6400/60000(11%)]\tTrain Loss: 0.271022\n",
      "Train Epoch: 8 [12800/60000(21%)]\tTrain Loss: 0.450319\n",
      "Train Epoch: 8 [19200/60000(32%)]\tTrain Loss: 0.453949\n",
      "Train Epoch: 8 [25600/60000(43%)]\tTrain Loss: 0.264607\n",
      "Train Epoch: 8 [32000/60000(53%)]\tTrain Loss: 0.357271\n",
      "Train Epoch: 8 [38400/60000(64%)]\tTrain Loss: 0.262565\n",
      "Train Epoch: 8 [44800/60000(75%)]\tTrain Loss: 0.233355\n",
      "Train Epoch: 8 [51200/60000(85%)]\tTrain Loss: 0.559881\n",
      "Train Epoch: 8 [57600/60000(96%)]\tTrain Loss: 0.737799\n",
      "\n",
      "[EPOCH]: 8, \tTest Loss: 0.0113, \tTest Accuracy: 89.40 %\n",
      "\n",
      "Train Epoch: 9 [0/60000(0%)]\tTrain Loss: 0.217019\n",
      "Train Epoch: 9 [6400/60000(11%)]\tTrain Loss: 0.262528\n",
      "Train Epoch: 9 [12800/60000(21%)]\tTrain Loss: 0.147375\n",
      "Train Epoch: 9 [19200/60000(32%)]\tTrain Loss: 0.338842\n",
      "Train Epoch: 9 [25600/60000(43%)]\tTrain Loss: 0.319770\n",
      "Train Epoch: 9 [32000/60000(53%)]\tTrain Loss: 0.326287\n",
      "Train Epoch: 9 [38400/60000(64%)]\tTrain Loss: 0.302978\n",
      "Train Epoch: 9 [44800/60000(75%)]\tTrain Loss: 0.214476\n",
      "Train Epoch: 9 [51200/60000(85%)]\tTrain Loss: 0.350680\n",
      "Train Epoch: 9 [57600/60000(96%)]\tTrain Loss: 0.373138\n",
      "\n",
      "[EPOCH]: 9, \tTest Loss: 0.0108, \tTest Accuracy: 90.18 %\n",
      "\n",
      "Train Epoch: 10 [0/60000(0%)]\tTrain Loss: 0.355823\n",
      "Train Epoch: 10 [6400/60000(11%)]\tTrain Loss: 0.315438\n",
      "Train Epoch: 10 [12800/60000(21%)]\tTrain Loss: 0.324973\n",
      "Train Epoch: 10 [19200/60000(32%)]\tTrain Loss: 0.355951\n",
      "Train Epoch: 10 [25600/60000(43%)]\tTrain Loss: 0.331876\n",
      "Train Epoch: 10 [32000/60000(53%)]\tTrain Loss: 0.354284\n",
      "Train Epoch: 10 [38400/60000(64%)]\tTrain Loss: 0.438655\n",
      "Train Epoch: 10 [44800/60000(75%)]\tTrain Loss: 0.419880\n",
      "Train Epoch: 10 [51200/60000(85%)]\tTrain Loss: 0.414610\n",
      "Train Epoch: 10 [57600/60000(96%)]\tTrain Loss: 0.274634\n",
      "\n",
      "[EPOCH]: 10, \tTest Loss: 0.0105, \tTest Accuracy: 90.32 %\n",
      "\n"
     ]
    }
   ],
   "source": [
    "# 10. MLP 학습을 실행하면서 Train, Test set의 Loss 및 Test set Accuracy 확인하기 \n",
    "for Epoch in range(1,EPOCHS+1):\n",
    "    train(Epoch,model,train_loader, optimizer, log_interval = 200)\n",
    "    test_loss, test_accuracy = evaluate(model, test_loader)\n",
    "    print(f\"\\n[EPOCH]: {Epoch}, \\tTest Loss: {test_loss:.4f}, \\tTest Accuracy: {test_accuracy:.2f} %\\n\")"
   ]
  }
 ],
 "metadata": {
  "kernelspec": {
   "display_name": "firstproject",
   "language": "python",
   "name": "python3"
  },
  "language_info": {
   "codemirror_mode": {
    "name": "ipython",
    "version": 3
   },
   "file_extension": ".py",
   "mimetype": "text/x-python",
   "name": "python",
   "nbconvert_exporter": "python",
   "pygments_lexer": "ipython3",
   "version": "3.12.9"
  }
 },
 "nbformat": 4,
 "nbformat_minor": 5
}
