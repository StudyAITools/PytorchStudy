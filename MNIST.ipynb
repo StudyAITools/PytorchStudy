{
 "cells": [
  {
   "cell_type": "code",
   "execution_count": 1,
   "id": "f94ac6e0",
   "metadata": {},
   "outputs": [],
   "source": [
    "# 1. Module Import\n",
    "import numpy as np  # 1. 선형대수와 관련된 함수를 쉽게 이용할 수 있는 모듈 \n",
    "import matplotlib.pyplot as plt  # 2. 함수 실행 결과 산출물에 대한 수치를 사람이쉽게 이해할 수 있도록 시각화 할 수 있는 외부 모듈\n",
    "import torch  # 3. 우리가 이용하는 딥러닝 프레임워크 중 하나인 파이토치의 기본 모듈\n",
    "import torch.nn as nn  # 4. pyTorch.Module 중 딥러닝 , 즉 인공 신경망 모델을 설계할 떄 필요한 함수를 모아 놓은 모듈\n",
    "import torch.nn.functional as F  # 5. torch.nn 은  모듈 중에서도 자주 이용되는 함수를 F 로 지정\n",
    "from torchvision import transforms, datasets  # 6. 컴퓨터 비전 연구 분야에서 자주 이용하는 'torchvision' 모듈 내 ' transforms', 'datasets'함수를 임포트"
   ]
  },
  {
   "cell_type": "code",
   "execution_count": 2,
   "id": "62d7f5dd",
   "metadata": {},
   "outputs": [
    {
     "name": "stdout",
     "output_type": "stream",
     "text": [
      "Torch version: 2.8.0+cu126\n",
      "Torchvision version: 0.23.0+cu126\n",
      "CUDA version: 12.6\n",
      "CUDA available: True\n",
      "GPU name: NVIDIA GeForce RTX 3070\n"
     ]
    }
   ],
   "source": [
    "import torch\n",
    "import torchvision\n",
    "\n",
    "print(\"Torch version:\", torch.__version__)\n",
    "print(\"Torchvision version:\", torchvision.__version__)\n",
    "print(\"CUDA version:\", torch.version.cuda)\n",
    "print(\"CUDA available:\", torch.cuda.is_available())\n",
    "print(\"GPU name:\", torch.cuda.get_device_name(0) if torch.cuda.is_available() else \"No GPU detected\")\n",
    "\n"
   ]
  },
  {
   "cell_type": "code",
   "execution_count": 3,
   "id": "7b9dab41",
   "metadata": {},
   "outputs": [
    {
     "name": "stdout",
     "output_type": "stream",
     "text": [
      "Using PyTorch version: 2.8.0+cu126 Device: cuda\n"
     ]
    }
   ],
   "source": [
    "# 딥러닝 모델을 설계할 때 활용하는 장비 확인 \n",
    "if torch.cuda.is_available():\n",
    "    DEVICE =torch.device('cuda')\n",
    "else:\n",
    "    DEVICE = torch.device('cpu')\n",
    "    \n",
    "print('Using PyTorch version:',torch.__version__ , 'Device:', DEVICE)"
   ]
  },
  {
   "cell_type": "code",
   "execution_count": 4,
   "id": "eb3fdd40",
   "metadata": {},
   "outputs": [],
   "source": [
    "# 하이퍼 파라미터 지정\n",
    "BATCH_SIZE = 32  # MLP 학습시 Mini-Batch 1회(Iteration)당 사용되는 학습 데이터 수\n",
    "EPOCHS = 10  # 전체 데이터를 이용해 학습을 진행한 횟수, ex) 전체 데이터 1만개, Mini_Batch 1개당 BATCH_SIZE 1000개 = Mini_Batch 10Iteration = 1 EPOCH \n"
   ]
  },
  {
   "cell_type": "code",
   "execution_count": 5,
   "id": "285cfbe5",
   "metadata": {},
   "outputs": [],
   "source": [
    "# MNIST 데이터 다운로드 및 DataLoader 구성 (Train/Test 세트 분리)\n",
    "\n",
    "# 1. 학습용 데이터셋 다운로드\n",
    "train_dataset = datasets.MNIST(\n",
    "    root=\"./data/MNIST\",               # 데이터를 저장할 디렉토리 경로\n",
    "    train=True,                        # 학습용 데이터 지정\n",
    "    download=True,                     # 데이터가 없으면 인터넷에서 자동 다운로드\n",
    "    transform=transforms.ToTensor()    # 이미지를 Tensor로 변환 (0~1 범위로 정규화됨)\n",
    ")\n",
    "\n",
    "# 2. 테스트용 데이터셋 다운로드\n",
    "test_dataset = datasets.MNIST(\n",
    "    root=\"./data/MNIST\",               # 동일한 저장 경로\n",
    "    train=False,                       # 테스트용 데이터 지정\n",
    "    transform=transforms.ToTensor()    # 이미지 Tensor 변환 및 정규화\n",
    ")\n",
    "\n",
    "# 3. 학습용 데이터 로더 설정\n",
    "train_loader = torch.utils.data.DataLoader(\n",
    "    dataset=train_dataset,             # 학습 데이터셋 지정\n",
    "    batch_size=BATCH_SIZE,             # 한 번에 불러올 데이터 수\n",
    "    shuffle=True                       # 매 epoch마다 데이터를 섞어서 학습 (일반적으로 True로 설정)\n",
    ")\n",
    "\n",
    "# 4. 테스트용 데이터 로더 설정\n",
    "test_loader = torch.utils.data.DataLoader(\n",
    "    dataset=test_dataset,              # 테스트 데이터셋 지정\n",
    "    batch_size=BATCH_SIZE,             # 테스트 시에도 동일한 배치 크기 사용\n",
    "    shuffle=False                      # 테스트 데이터는 순서를 유지 (일반적으로 False)\n",
    ")\n"
   ]
  },
  {
   "cell_type": "code",
   "execution_count": 6,
   "id": "8a5106a7",
   "metadata": {},
   "outputs": [
    {
     "name": "stdout",
     "output_type": "stream",
     "text": [
      "x_train: torch.Size([32, 1, 28, 28]) type: torch.FloatTensor\n",
      "y_train: torch.Size([32]) type: torch.LongTensor\n"
     ]
    }
   ],
   "source": [
    "# 4. 데이터 확인하기(1)\n",
    "for (x_train, y_train) in train_loader:\n",
    "    print('x_train:', x_train.size(),'type:',x_train.type())   # 32개의 이미지 데이터 = Mini-Batch 1개 구성  = 한 개의 이미지는 가로 28개, 세로 28개의 픽셀, 채널 1개인 흑백 이미지 데이터\n",
    "    print('y_train:', y_train.size(),'type:',y_train.type())   # 32개의 이미지 데이터 각각의 대한 라벨링 데이터  \n",
    "    break\n"
   ]
  },
  {
   "cell_type": "code",
   "execution_count": 7,
   "id": "69718bb9",
   "metadata": {},
   "outputs": [
    {
     "data": {
      "image/png": "[encoded data removed]",
      "text/plain": [
       "<Figure size 1000x100 with 10 Axes>"
      ]
     },
     "metadata": {},
     "output_type": "display_data"
    }
   ],
   "source": [
    "# 5. 데이터 확인하기(2) \n",
    "pltsize = 1 \n",
    "plt.figure(figsize=(10 * pltsize,pltsize))\n",
    "for i in range(10):\n",
    "    plt.subplot(1,10,i+1)\n",
    "    plt.axis('off')\n",
    "    plt.imshow(x_train[i,:,:,:].numpy().reshape(28,28), cmap ='grey_r')\n",
    "    plt.title('Class: ' + str(y_train[i].item()))"
   ]
  },
  {
   "cell_type": "code",
   "execution_count": 8,
   "id": "c5fa3666",
   "metadata": {},
   "outputs": [],
   "source": [
    "# 6. MLP(Multi Layer Perception) 모델 설계하기\n",
    "\n",
    "class Net(nn.Module):\n",
    "    def __init__(self):\n",
    "        super(Net, self).__init__()\n",
    "        self.fc1 = nn.Linear(28*28,512)\n",
    "        self.fc2 = nn.Linear(512,256)\n",
    "        self.fc3 = nn.Linear(256,10)\n",
    "    def forward(self, x):\n",
    "        x = x.view(-1, 28*28)\n",
    "        x = self.fc1(x)\n",
    "        x = F.sigmoid(x)\n",
    "        x = self.fc2(x)\n",
    "        x = F.sigmoid(x)\n",
    "        x = self.fc3(x)\n",
    "        x = F.log_softmax(x, dim=1)\n",
    "        return x"
   ]
  },
  {
   "cell_type": "code",
   "execution_count": 9,
   "id": "1508ed6a",
   "metadata": {},
   "outputs": [],
   "source": [
    "# 다층 퍼셉트론(MLP) 모델 정의\n",
    "class Net(nn.Module):  # nn.module → nn.Module (클래스명은 대문자로 시작해야 함)\n",
    "    def __init__(self):\n",
    "        super(Net, self).__init__() \n",
    "        \n",
    "        # 첫 번째 완전 연결층 (입력: 28x28 픽셀 → 출력: 512 노드)\n",
    "        self.fc1 = nn.Linear(28*28, 512)  \n",
    "\n",
    "        # 두 번째 완전 연결층 (입력: 512 노드 → 출력: 256 노드)\n",
    "        self.fc2 = nn.Linear(512, 256)\n",
    "\n",
    "        # 세 번째 완전 연결층 (입력: 256 노드 → 출력: 10 클래스)\n",
    "        self.fc3 = nn.Linear(256, 10)\n",
    "\n",
    "    def forward(self, x):\n",
    "        # 이미지를 1차원 벡터로 변환 (배치 크기, 784)\n",
    "        x = x.view(-1, 28*28)\n",
    "\n",
    "        # 첫 번째 층 + sigmoid 활성화 함수\n",
    "        x = self.fc1(x)\n",
    "        x = F.sigmoid(x)  # 최근에는 ReLU를 더 많이 사용함\n",
    "\n",
    "        # 두 번째 층 + sigmoid 활성화 함수\n",
    "        x = self.fc2(x)\n",
    "        x = F.sigmoid(x)\n",
    "\n",
    "        # 세 번째 층 + log_softmax 활성화 함수 (출력: 확률 로그값)\n",
    "        x = self.fc3(x)\n",
    "        x = F.log_softmax(x, dim=1)\n",
    "\n",
    "        return x\n"
   ]
  },
  {
   "cell_type": "code",
   "execution_count": 10,
   "id": "d60a05b2",
   "metadata": {},
   "outputs": [
    {
     "name": "stdout",
     "output_type": "stream",
     "text": [
      "Net(\n",
      "  (fc1): Linear(in_features=784, out_features=512, bias=True)\n",
      "  (fc2): Linear(in_features=512, out_features=256, bias=True)\n",
      "  (fc3): Linear(in_features=256, out_features=10, bias=True)\n",
      ")\n"
     ]
    }
   ],
   "source": [
    "# 7. Optimizer, Objective Function 설정 \n",
    "model = Net().to(DEVICE)\n",
    "optimizer = torch.optim.SGD(model.parameters(),lr = 0.01, momentum=0.5)\n",
    "criterion = nn.CrossEntropyLoss()\n",
    "print(model)"
   ]
  },
  {
   "cell_type": "code",
   "execution_count": 11,
   "id": "6bedf20b",
   "metadata": {},
   "outputs": [],
   "source": [
    "# 8. MLP 모델 학습을 진행하면서 학습 데이터에 대한 모델 성능을 확인하는 함수 정의하기 \n",
    "def train(model, train_loader, optimizer, log_interval,Ephoc):\n",
    "    model.train()\n",
    "    for batch_idx, (image, label) in enumerate(train_loader):\n",
    "        image=image.to(DEVICE)\n",
    "        label=label.to(DEVICE)\n",
    "        optimizer.zero_grad()\n",
    "        output = model(image)\n",
    "        loss = criterion(output,label)\n",
    "        loss.backward()\n",
    "        optimizer.step()\n",
    "        \n",
    "        if batch_idx % log_interval == 0:\n",
    "            print(\"Train Epoch: {} [{}/{}({:.0f}%)]\\tTrain Loss: {:.6f}\".format(Ephoc,batch_idx*len(image),len(train_loader.dataset), 100. * batch_idx / len(train_loader),loss.item()))\n",
    "           "
   ]
  },
  {
   "cell_type": "code",
   "execution_count": 12,
   "id": "16e381e6",
   "metadata": {},
   "outputs": [],
   "source": [
    "def train(model, train_loader, optimizer, log_interval,Epoch):\n",
    "    model.train()\n",
    "    for batch_idx, (image, label) in enumerate(train_loader):\n",
    "        image=image.to(DEVICE)\n",
    "        label=label.to(DEVICE)\n",
    "        optimizer.zero_grad()\n",
    "        output = model(image)\n",
    "        loss = criterion(output,label)\n",
    "        loss.backward()\n",
    "        optimizer.step()\n",
    "        \n",
    "        if batch_idx % log_interval == 0:\n",
    "            print(f\"Train Epoch: {Epoch} [{batch_idx*len(image)}/{len(train_loader.dataset)}({100. * batch_idx / len(train_loader):.0f}%)]\\tTrain Loss: {loss.item():.6f}\")\n",
    "     "
   ]
  },
  {
   "cell_type": "code",
   "execution_count": null,
   "id": "dc544043",
   "metadata": {},
   "outputs": [],
   "source": [
    "# 학습되는 과정 속에서 검증 데이터에 대한 모델의 성능을 확인하는 함수 정의하기 \n",
    "def evaluate(model, test_loader):\n",
    "    model.eval()\n",
    "    test_loss = 0\n",
    "    correct = 0 \n",
    "    \n",
    "    with torch.no_grad():\n",
    "        for image, label in test_loader:\n",
    "            image = image.to(DEVICE)\n",
    "            label = label.to(DEVICE)\n",
    "            output = model(image)\n",
    "            test_loss += criterion(output, label).item()\n",
    "            prediction = output.max(1,keepdim = True)[1]\n",
    "            correct += prediction.eq(label.view_as(prediction)).sum().item()\n",
    "            \n",
    "    test_loss /= len(test_loader.dataset)\n",
    "    test_accuracy =100. * correct / len(test_loader.dataset)\n",
    "    return test_loss, test_accuracy            "
   ]
  }
 ],
 "metadata": {
  "kernelspec": {
   "display_name": "firstproject",
   "language": "python",
   "name": "python3"
  },
  "language_info": {
   "codemirror_mode": {
    "name": "ipython",
    "version": 3
   },
   "file_extension": ".py",
   "mimetype": "text/x-python",
   "name": "python",
   "nbconvert_exporter": "python",
   "pygments_lexer": "ipython3",
   "version": "3.12.9"
  }
 },
 "nbformat": 4,
 "nbformat_minor": 5
}
